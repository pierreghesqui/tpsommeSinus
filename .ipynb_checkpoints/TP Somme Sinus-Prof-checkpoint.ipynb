{
 "cells": [
  {
   "cell_type": "markdown",
   "id": "536fe907",
   "metadata": {},
   "source": [
    "# Voir et entendre les interférences avec Python\n",
    "L'objectif de cette activité est d'approfondir notre compréhension des interférences en visualisant et en écoutant des interférences. Nous allons pour cela modéliser la situation ci-dessous grâce au langage Python.\n",
    "\n",
    "*Deux enceintes ($S_1$ et $S_2$) émettent des ondes en phase à la fréquence $f = 440~Hz$. Un microphone est placé au point M (voir schéma ci-dessous).<br>*\n",
    "<img src=\"https://raw.githubusercontent.com/pierreghesqui/tpsommeSinus/main/2023-08-21%2010_19_20-Nouveau%20Pr%C3%A9sentation%20Microsoft%20PowerPoint%20-%20PowerPoint.png\" alt=\"Aleq\" width=\"300\" height=\"300\"/>"
   ]
  },
  {
   "cell_type": "markdown",
   "id": "fce0e1e3",
   "metadata": {},
   "source": [
    "✍️**Travail 1**- Déterminer laquelle des deux ondes arrive en retard. Justifier.<br>\n",
    "✍️**Travail 2**- Exprimer la durée $\\tau$ de ce retard en fonction de la différence de chemin $\\delta$ et de la célérité du son $c$. <br>\n",
    "✍️**Travail 3**- Compléter l'expression de la variable <code>retard</code> dans le code ci-dessous.<br>\n",
    "\n",
    "Le code trace l'allure des ondes en fonction du temps. Il permet aussi d'écouter chacun des deux signaux incidents et la somme des deux au point M.\n",
    "\n",
    "✍️**Travail 4**- Exécuter le code ci-dessous. Dire si l'interférence est *constructive* ou *destructive*. Expliquer pourquoi en analysant l'allure des courbes et les sons.<br>\n",
    "✍️**Travail 5**- Modifier l'expression de la variable <code>differenceDeChemin</code> pour obtenir l'autre type d'interférence. Expliquer l'origine de ce type d'interférence en analysant l'allure des signaux. <br>"
   ]
  },
  {
   "cell_type": "code",
   "execution_count": null,
   "id": "473cf39f",
   "metadata": {
    "scrolled": false
   },
   "outputs": [],
   "source": [
    "from fonctions import entendreLeSon, voirSignaux\n",
    "from onde import Onde\n",
    "import time\n",
    "\n",
    "f = 440    # Valeur de la fréquence en Hertz \n",
    "c = 340    # Valeur de la vitesse du son dans l'air\n",
    "\n",
    "T = 1/f    # Expression de la période T\n",
    "longueurOnde = c*T #Expression de la longueur d'onde \n",
    "\n",
    "differenceDeChemin = 3.05*longueurOnde  #Choisir une valeur de différence de chemin que vous souhaitez\n",
    "                                       #analyser\n",
    "                                       #exemples : differenceDeChemin = 0.5*longueurOnde\n",
    "                                       #          ou différenceDeChemin = 2*longueurOnde \n",
    "\n",
    "            \n",
    "retard = differenceDeChemin/c      #Expression du retard en fonction de c et de la \n",
    "                                   # difference de chemin \n",
    "\n",
    "onde1 = Onde(f,0)\n",
    "onde2 = Onde(f,retard)             #L'onde2 arrive au point M avec un retard\n",
    "\n",
    "ondetot = onde1 + onde2            # On additione les deux ondes\n",
    "\n",
    "voirSignaux([onde1,onde2,ondetot]) # On observe les signaux\n",
    "\n",
    "\n",
    "\n",
    "print(\"Onde incidente provenant de S1\")\n",
    "entendreLeSon(onde1)\n",
    "time.sleep(2) # 1 seconde de pause entre les 2 sons\n",
    "print(\"Onde incidente provenant de S2\")\n",
    "entendreLeSon(onde2)\n",
    "print(\"Somme des deux ondes incidentes au point M\")\n",
    "time.sleep(2) # 1 seconde de pause entre les 2 sons\n",
    "entendreLeSon(ondetot)"
   ]
  },
  {
   "cell_type": "code",
   "execution_count": null,
   "id": "4029aa71",
   "metadata": {},
   "outputs": [],
   "source": []
  }
 ],
 "metadata": {
  "kernelspec": {
   "display_name": "Python 3 (ipykernel)",
   "language": "python",
   "name": "python3"
  },
  "language_info": {
   "codemirror_mode": {
    "name": "ipython",
    "version": 3
   },
   "file_extension": ".py",
   "mimetype": "text/x-python",
   "name": "python",
   "nbconvert_exporter": "python",
   "pygments_lexer": "ipython3",
   "version": "3.9.12"
  }
 },
 "nbformat": 4,
 "nbformat_minor": 5
}
