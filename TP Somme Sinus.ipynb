{
 "cells": [
  {
   "cell_type": "code",
   "execution_count": null,
   "id": "dca1e826",
   "metadata": {},
   "outputs": [],
   "source": [
    "import numpy as np\n",
    "import matplotlib.pyplot as plt\n",
    "from fonctions import entendreLeSon, voirSignaux\n",
    "from onde import Onde\n",
    "\n",
    "f = 440\n",
    "T = 1/f\n",
    "retard = T/4\n",
    "\n",
    "onde1 = Onde(f,0)\n",
    "onde2 = Onde(f,retard)\n",
    "\n",
    "ondetot = onde1 + onde2\n",
    "\n",
    "voirSignaux([onde1,onde2,ondetot])\n",
    "\n",
    "entendreLeSon(ondetot)"
   ]
  }
 ],
 "metadata": {
  "kernelspec": {
   "display_name": "Python 3 (ipykernel)",
   "language": "python",
   "name": "python3"
  },
  "language_info": {
   "codemirror_mode": {
    "name": "ipython",
    "version": 3
   },
   "file_extension": ".py",
   "mimetype": "text/x-python",
   "name": "python",
   "nbconvert_exporter": "python",
   "pygments_lexer": "ipython3",
   "version": "3.9.12"
  }
 },
 "nbformat": 4,
 "nbformat_minor": 5
}
