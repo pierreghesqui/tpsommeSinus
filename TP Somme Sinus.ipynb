{
 "cells": [
  {
   "cell_type": "code",
   "execution_count": null,
   "id": "c4cc826d",
   "metadata": {
    "scrolled": false
   },
   "outputs": [],
   "source": [
    "import numpy as np\n",
    "import matplotlib.pyplot as plt\n",
    "from fonctions import entendreLeSon, voirSignaux\n",
    "from onde import Onde\n",
    "import time\n",
    "f = 440\n",
    "T = 1/f\n",
    "retard = T/2*0.8\n",
    "\n",
    "onde1 = Onde(f,0)\n",
    "onde2 = Onde(f,retard)\n",
    "\n",
    "ondetot = onde1 + onde2\n",
    "\n",
    "voirSignaux([onde1,onde2,ondetot])\n",
    "\n",
    "entendreLeSon(onde1)\n",
    "time.sleep(2) # 1 seconde de pause entre les 2 sons\n",
    "entendreLeSon(onde2)\n",
    "time.sleep(2) # 1 seconde de pause entre les 2 sons\n",
    "entendreLeSon(ondetot)"
   ]
  },
  {
   "cell_type": "code",
   "execution_count": null,
   "id": "59252dfe",
   "metadata": {},
   "outputs": [],
   "source": []
  }
 ],
 "metadata": {
  "kernelspec": {
   "display_name": "Python 3 (ipykernel)",
   "language": "python",
   "name": "python3"
  },
  "language_info": {
   "codemirror_mode": {
    "name": "ipython",
    "version": 3
   },
   "file_extension": ".py",
   "mimetype": "text/x-python",
   "name": "python",
   "nbconvert_exporter": "python",
   "pygments_lexer": "ipython3",
   "version": "3.9.12"
  }
 },
 "nbformat": 4,
 "nbformat_minor": 5
}
